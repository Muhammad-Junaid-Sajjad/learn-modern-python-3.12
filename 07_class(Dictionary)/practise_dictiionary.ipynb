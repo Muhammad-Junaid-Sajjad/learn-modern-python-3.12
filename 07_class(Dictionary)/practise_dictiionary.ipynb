{
 "cells": [
  {
   "cell_type": "code",
   "execution_count": 27,
   "metadata": {},
   "outputs": [
    {
     "name": "stdout",
     "output_type": "stream",
     "text": [
      "0\n",
      "1\n",
      "2\n",
      "3\n",
      "4\n"
     ]
    }
   ],
   "source": [
    "# Range Functions\n",
    "for x in range(0,5):\n",
    "    print(x)"
   ]
  },
  {
   "cell_type": "markdown",
   "metadata": {},
   "source": [
    "# Starting With Dictionaries \n",
    "\n",
    "#### variable : dict[ index_type : value  ] = {       }\n",
    "#### its means that this index_type cn be any one e,g  int , str etc but float cant be written .\n",
    "#### value pair are always unique \n"
   ]
  },
  {
   "cell_type": "code",
   "execution_count": 35,
   "metadata": {},
   "outputs": [
    {
     "name": "stdout",
     "output_type": "stream",
     "text": [
      "{'A': 'Apple', 'B': 'Banana', 'C': 'cherry'}\n",
      "dict_values(['Apple', 'Banana', 'cherry'])\n"
     ]
    }
   ],
   "source": [
    "fruits : dict = {'A':'Apple','B':'Banana','C': 'cherry'}\n",
    "# printing the dictionary \n",
    "print(fruits)\n",
    "print(fruits.values())"
   ]
  },
  {
   "cell_type": "code",
   "execution_count": 3,
   "metadata": {},
   "outputs": [
    {
     "data": {
      "text/plain": [
       "'cherry'"
      ]
     },
     "execution_count": 3,
     "metadata": {},
     "output_type": "execute_result"
    }
   ],
   "source": [
    "# we will call our dict- values with our given index type \n",
    "fruits['C']    # but ake sure to follows the given custom indexes "
   ]
  },
  {
   "cell_type": "code",
   "execution_count": 36,
   "metadata": {},
   "outputs": [
    {
     "name": "stdout",
     "output_type": "stream",
     "text": [
      "{1: 'Ali', 2: 'Ahmed ', 3: 'khalid'}\n"
     ]
    }
   ],
   "source": [
    "# lets see our new dictionary list \n",
    "results : dict = {1:'Ali', 2:'Ahmed ', 3 : 'khalid'}\n",
    "print(results)"
   ]
  },
  {
   "cell_type": "code",
   "execution_count": 8,
   "metadata": {},
   "outputs": [
    {
     "data": {
      "text/plain": [
       "'khalid'"
      ]
     },
     "execution_count": 8,
     "metadata": {},
     "output_type": "execute_result"
    }
   ],
   "source": [
    "# dictionaries have a function know as get( ) function \n",
    "results.get(3)"
   ]
  },
  {
   "cell_type": "code",
   "execution_count": 10,
   "metadata": {},
   "outputs": [
    {
     "name": "stdout",
     "output_type": "stream",
     "text": [
      "1\n",
      "2\n",
      "3\n"
     ]
    }
   ],
   "source": [
    "# when iterating dictionaries in loops it only iterates indexes only , but we can also get our values by using a method known as values()\n",
    "for x in results:\n",
    "    print(x)\n"
   ]
  },
  {
   "cell_type": "code",
   "execution_count": 13,
   "metadata": {},
   "outputs": [
    {
     "name": "stdout",
     "output_type": "stream",
     "text": [
      "Ali\n",
      "Ahmed \n",
      "khalid\n"
     ]
    }
   ],
   "source": [
    "# for when iterating dictionaries in loops it only iterates indexes only , but we can also get our values by using a method known as values()\n",
    " \n",
    "for x in results.values():\n",
    "    print(x)"
   ]
  },
  {
   "cell_type": "code",
   "execution_count": 12,
   "metadata": {},
   "outputs": [
    {
     "data": {
      "text/plain": [
       "dict_items([(1, 'Ali'), (2, 'Ahmed '), (3, 'khalid')])"
      ]
     },
     "execution_count": 12,
     "metadata": {},
     "output_type": "execute_result"
    }
   ],
   "source": [
    "# to get the both indexes and values we use dict.item() functions \n",
    "results.items()"
   ]
  },
  {
   "cell_type": "code",
   "execution_count": 33,
   "metadata": {},
   "outputs": [],
   "source": [
    "# print(results.items())\n",
    "# x = list(results)\n",
    "# print(x.items())\n"
   ]
  },
  {
   "cell_type": "code",
   "execution_count": 30,
   "metadata": {},
   "outputs": [
    {
     "name": "stdout",
     "output_type": "stream",
     "text": [
      "(1, 'Ali')\n",
      "(2, 'Ahmed ')\n",
      "(3, 'khalid')\n"
     ]
    }
   ],
   "source": [
    "# using loops with dictionaries \n",
    "for x in results.items():               # we can store these key pair vales 10 & ali in two different variables \n",
    "    print(x)"
   ]
  },
  {
   "cell_type": "code",
   "execution_count": 34,
   "metadata": {},
   "outputs": [
    {
     "name": "stdout",
     "output_type": "stream",
     "text": [
      "(i) : (x)\n",
      "(i) : (x)\n",
      "(i) : (x)\n"
     ]
    }
   ],
   "source": [
    "# we can store these key pair vales 10 & ali in two different variables\n",
    "for i , x in results.items():\n",
    "    print(f'(i) : (x)')"
   ]
  },
  {
   "cell_type": "code",
   "execution_count": null,
   "metadata": {},
   "outputs": [],
   "source": [
    "# custom indexing is used for getting faster results , e.g used in student records ."
   ]
  },
  {
   "cell_type": "markdown",
   "metadata": {},
   "source": [
    "# see python book Errics mathes for getting all Dictionary Concepts and usage ..."
   ]
  },
  {
   "cell_type": "markdown",
   "metadata": {},
   "source": []
  }
 ],
 "metadata": {
  "kernelspec": {
   "display_name": "myenv",
   "language": "python",
   "name": "python3"
  },
  "language_info": {
   "codemirror_mode": {
    "name": "ipython",
    "version": 3
   },
   "file_extension": ".py",
   "mimetype": "text/x-python",
   "name": "python",
   "nbconvert_exporter": "python",
   "pygments_lexer": "ipython3",
   "version": "3.12.3"
  }
 },
 "nbformat": 4,
 "nbformat_minor": 2
}
