{
 "cells": [
  {
   "cell_type": "markdown",
   "metadata": {},
   "source": [
    "# LETS DIVIE DEEP INTO PYTHON TUPLE TUTORIALS \n"
   ]
  },
  {
   "cell_type": "code",
   "execution_count": null,
   "metadata": {},
   "outputs": [],
   "source": []
  },
  {
   "cell_type": "markdown",
   "metadata": {},
   "source": [
    "# Basiclly tuple is also know as a list / collection of elements but there is a little difference between list & tuple"
   ]
  },
  {
   "cell_type": "code",
   "execution_count": 1,
   "metadata": {},
   "outputs": [
    {
     "name": "stdout",
     "output_type": "stream",
     "text": [
      "['Aamir', ' Uzair', 'Minahil', 'Junaid']\n"
     ]
    }
   ],
   "source": [
    "# this is a list \n",
    "guest_names : list[str] = ['Aamir',' Uzair', 'Minahil', 'Junaid']\n",
    "\n",
    "# printing list \n",
    "print(guest_names)"
   ]
  },
  {
   "cell_type": "code",
   "execution_count": 6,
   "metadata": {},
   "outputs": [
    {
     "name": "stdout",
     "output_type": "stream",
     "text": [
      "(1, 2, 3)\n",
      "('Aamir', ' Uzair', 'Minahil', 'Junaid')\n",
      "1\n",
      "Minahil\n"
     ]
    }
   ],
   "source": [
    "# this is  tuple with data type int \n",
    "variable_01 : tuple[int] = ( 1,2, 3 )\n",
    "print(variable_01)\n",
    "\n",
    "# this is tuple with data type string \n",
    "variable_02 : tuple[str] = ('Aamir',' Uzair', 'Minahil', 'Junaid')\n",
    "print(variable_02)\n",
    "\n",
    "# we can use indexing in tuples as well\n",
    "print( variable_01[0] ) \n",
    "print( variable_02[2] )\n"
   ]
  },
  {
   "cell_type": "code",
   "execution_count": 7,
   "metadata": {},
   "outputs": [
    {
     "name": "stdout",
     "output_type": "stream",
     "text": [
      "(1, 2, 3, 'Aamir Bhai ', 'Uzair Bhai ', 41.5, 91.5)\n",
      "Uzair Bhai \n",
      "41.5\n"
     ]
    }
   ],
   "source": [
    "# this is a tuple having int & string datatypes \n",
    "variable_03 : tuple[ int | str | float ,...] = ( 1,2,3 , 'Aamir Bhai ', 'Uzair Bhai ', 41.5 , 91.5 ) \n",
    "\n",
    "# printing tuple as a whole \n",
    "print( variable_03 )\n",
    "\n",
    "\n",
    "# printing tuple through indexing \n",
    "print( variable_03[4])\n",
    "print( variable_03[5] )\n",
    "\n"
   ]
  },
  {
   "cell_type": "code",
   "execution_count": null,
   "metadata": {},
   "outputs": [],
   "source": [
    "# creating tuple through tuple_constructor method \n",
    "guest_names : list = ['Aamir',' Uzair', 'Minahil', 'Junaid']"
   ]
  },
  {
   "cell_type": "markdown",
   "metadata": {},
   "source": []
  }
 ],
 "metadata": {
  "kernelspec": {
   "display_name": "myenv",
   "language": "python",
   "name": "python3"
  },
  "language_info": {
   "codemirror_mode": {
    "name": "ipython",
    "version": 3
   },
   "file_extension": ".py",
   "mimetype": "text/x-python",
   "name": "python",
   "nbconvert_exporter": "python",
   "pygments_lexer": "ipython3",
   "version": "3.12.3"
  }
 },
 "nbformat": 4,
 "nbformat_minor": 2
}
