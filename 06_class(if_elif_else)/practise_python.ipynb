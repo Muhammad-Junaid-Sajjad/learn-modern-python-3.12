{
 "cells": [
  {
   "cell_type": "code",
   "execution_count": 2,
   "metadata": {},
   "outputs": [
    {
     "name": "stdout",
     "output_type": "stream",
     "text": [
      "5 4 3 2 1 5 4 3 2 1 \n",
      "The factorial of 5 is 120\n"
     ]
    }
   ],
   "source": [
    "# writing the factorial..\n",
    "\n",
    "user_input = n = int(input(\"Enter a number: \"))\n",
    "\n",
    "# First, wel will list the numbers involved in the factorial\n",
    "\n",
    "for i in range(n, 0, -1):\n",
    "    print(i, end=\" \")\n",
    "# This will just prints out the numbers, involved in the factorial\n",
    "\n",
    "# now we will get the logic  in action.......\n",
    "n = int(input(\"Enter a number: \"))\n",
    "factorial = 1\n",
    "\n",
    "# we will firstly list the numbers involved in the factorial\n",
    "\n",
    "for i in range(n, 0, -1):\n",
    "    print(i, end=\" \")               # Printing the  numbers first\n",
    "    factorial *= i               # then Multiplying them with its factorial/factor  to get the factorial\n",
    "\n",
    "# then printing the fatorial numbers \n",
    "\n",
    "print(f\"\\nThe factorial of {n} is {factorial}\")\n"
   ]
  },
  {
   "cell_type": "code",
   "execution_count": null,
   "metadata": {},
   "outputs": [],
   "source": []
  }
 ],
 "metadata": {
  "kernelspec": {
   "display_name": "myenv",
   "language": "python",
   "name": "python3"
  },
  "language_info": {
   "codemirror_mode": {
    "name": "ipython",
    "version": 3
   },
   "file_extension": ".py",
   "mimetype": "text/x-python",
   "name": "python",
   "nbconvert_exporter": "python",
   "pygments_lexer": "ipython3",
   "version": "3.12.3"
  }
 },
 "nbformat": 4,
 "nbformat_minor": 2
}
