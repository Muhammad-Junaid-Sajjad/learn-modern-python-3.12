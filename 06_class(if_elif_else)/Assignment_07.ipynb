{
 "cells": [
  {
   "cell_type": "code",
   "execution_count": 2,
   "metadata": {},
   "outputs": [],
   "source": [
    "# Step 1: Prompt the user for their name\n",
    "name: str = input(\"Enter your name: \")\n",
    "\n",
    "# Step 2: Prompt the user to enter three favorite numbers\n",
    "# Convert the input strings to integers and store them in a list\n",
    "favorite_numbers: list[int] = [\n",
    "    int(input(\"Enter your first favorite number: \")), \n",
    "    int(input(\"Enter your second favorite number: \")), \n",
    "    int(input(\"Enter your third favorite number: \"))\n",
    "]"
   ]
  },
  {
   "cell_type": "code",
   "execution_count": 3,
   "metadata": {},
   "outputs": [
    {
     "name": "stdout",
     "output_type": "stream",
     "text": [
      "\n",
      "Hello, Junaid! Let's explore your favorite numbers:\n",
      "The number 4 is even.\n",
      "The number 6 is even.\n",
      "The number 9 is odd.\n"
     ]
    }
   ],
   "source": [
    "\n",
    "# Step 3: Greet the user\n",
    "print(f\"\\nHello, {name}! Let's explore your favorite numbers:\")\n",
    "\n",
    "# Step 4: Check if the numbers are even or odd\n",
    "# Store the results in a list of tuples\n",
    "even_odd_list: list[tuple[int, str]] = []\n",
    "for number in favorite_numbers:\n",
    "    if number % 2 == 0:\n",
    "        even_odd_list.append((number, \"even\"))\n",
    "        print(f\"The number {number} is even.\")\n",
    "    else:\n",
    "        even_odd_list.append((number, \"odd\"))\n",
    "        print(f\"The number {number} is odd.\")"
   ]
  },
  {
   "cell_type": "code",
   "execution_count": 4,
   "metadata": {},
   "outputs": [
    {
     "name": "stdout",
     "output_type": "stream",
     "text": [
      "The number 4 and its square: (4, 16)\n",
      "The number 6 and its square: (6, 36)\n",
      "The number 9 and its square: (9, 81)\n"
     ]
    }
   ],
   "source": [
    "\n",
    "# Step 5: Print the numbers and their squares\n",
    "# Using a for loop to iterate through the favorite_numbers list\n",
    "for number in favorite_numbers:\n",
    "    square: tuple[int, int] = (number, number ** 2)\n",
    "    print(f\"The number {number} and its square: {square}\")"
   ]
  },
  {
   "cell_type": "code",
   "execution_count": 5,
   "metadata": {},
   "outputs": [
    {
     "name": "stdout",
     "output_type": "stream",
     "text": [
      "\n",
      "Amazing! The sum of your favorite numbers is: 19\n"
     ]
    }
   ],
   "source": [
    "\n",
    "# Step 6: Calculate the sum of the three favorite numbers\n",
    "sum_numbers: int = sum(favorite_numbers)\n",
    "print(f\"\\nAmazing! The sum of your favorite numbers is: {sum_numbers}\")\n"
   ]
  },
  {
   "cell_type": "code",
   "execution_count": 6,
   "metadata": {},
   "outputs": [],
   "source": [
    "\n",
    "# Step 7: Check if the sum is a prime number without using a function\n",
    "# A prime number has no divisors other than 1 and itself\n",
    "\n",
    "# Step 7a: Assume the number is prime initially\n",
    "is_prime: bool = True\n",
    "\n",
    "# Step 7b: A prime number should be greater than 1\n",
    "if sum_numbers < 2:\n",
    "    is_prime = False\n",
    "else:\n",
    "    # Step 7c: Check if the sum has any divisors other than 1 and itself\n",
    "    for i in range(2, sum_numbers):\n",
    "        if sum_numbers % i == 0:\n",
    "            is_prime = False\n",
    "            break"
   ]
  },
  {
   "cell_type": "code",
   "execution_count": 7,
   "metadata": {},
   "outputs": [
    {
     "name": "stdout",
     "output_type": "stream",
     "text": [
      "Wow, 19 is a prime number!\n"
     ]
    }
   ],
   "source": [
    "\n",
    "# Step 8: Notify the user if the sum is a prime number or not\n",
    "if is_prime:\n",
    "    print(f\"Wow, {sum_numbers} is a prime number!\")\n",
    "else:\n",
    "    print(f\"{sum_numbers} is not a prime number.\")"
   ]
  }
 ],
 "metadata": {
  "kernelspec": {
   "display_name": "myenv",
   "language": "python",
   "name": "python3"
  },
  "language_info": {
   "codemirror_mode": {
    "name": "ipython",
    "version": 3
   },
   "file_extension": ".py",
   "mimetype": "text/x-python",
   "name": "python",
   "nbconvert_exporter": "python",
   "pygments_lexer": "ipython3",
   "version": "3.12.3"
  }
 },
 "nbformat": 4,
 "nbformat_minor": 2
}
