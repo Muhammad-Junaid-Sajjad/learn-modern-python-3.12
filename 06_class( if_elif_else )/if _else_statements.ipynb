{
 "cells": [
  {
   "cell_type": "code",
   "execution_count": 9,
   "metadata": {},
   "outputs": [
    {
     "name": "stdout",
     "output_type": "stream",
     "text": [
      "65\n",
      "<class 'str'>\n"
     ]
    }
   ],
   "source": [
    "marks : int = input('Enter Your Marks:')\n",
    "print(marks)\n",
    "# print type of marks\n",
    "print(type(marks))"
   ]
  },
  {
   "cell_type": "code",
   "execution_count": 10,
   "metadata": {},
   "outputs": [
    {
     "name": "stdout",
     "output_type": "stream",
     "text": [
      "76\n",
      "<class 'int'>\n"
     ]
    }
   ],
   "source": [
    "# we can also change the type directly .\n",
    "marks : int = int(input('Enter Your Marks:'))\n",
    "print(marks)\n",
    "# printing type of marks\n",
    "print(type(marks))"
   ]
  },
  {
   "cell_type": "code",
   "execution_count": null,
   "metadata": {},
   "outputs": [],
   "source": []
  },
  {
   "cell_type": "markdown",
   "metadata": {},
   "source": [
    "Operators \n",
    "\n",
    "1- Arithmetic +,-,*,/\n",
    "\n",
    "2- Relational >,<,<=,>=, ==,!=    # all these relations results into True / False \n",
    "e.g 3 > 4  output:  False \n",
    "\n",
    "e.g 4 <= 10 output: True\n",
    "\n",
    "\n",
    "Logical operators \n",
    "\n",
    "\n",
    "and --> when all conditions are true == True \n",
    "\n",
    "\n",
    "or  --> when either( any one ) of condition is true == True \n",
    "\n",
    "\n",
    "not --> when "
   ]
  },
  {
   "cell_type": "code",
   "execution_count": 11,
   "metadata": {},
   "outputs": [
    {
     "name": "stdout",
     "output_type": "stream",
     "text": [
      "You Are Passed \n"
     ]
    }
   ],
   "source": [
    "# using relational operators \n",
    "marks : int = int(input('Enter Your Marks:'))\n",
    "if marks >= 33:\n",
    "    print('You Are Passed ')\n",
    "# print('welcome')"
   ]
  },
  {
   "cell_type": "code",
   "execution_count": 12,
   "metadata": {},
   "outputs": [
    {
     "name": "stdout",
     "output_type": "stream",
     "text": [
      "You Are Passed \n",
      "welcome\n"
     ]
    }
   ],
   "source": [
    "# using relational operators \n",
    "marks : int = int(input('Enter Your Marks:'))\n",
    "if marks >= 33:\n",
    "    print('You Are Passed ')\n",
    "else: \n",
    "    print('You are failed ')            # using if_else_if statements\n",
    "if marks >=50:\n",
    "    print('Good You have top! ')\n",
    "\n",
    "print('welcome')\n",
    "\n"
   ]
  },
  {
   "cell_type": "code",
   "execution_count": 13,
   "metadata": {},
   "outputs": [
    {
     "name": "stdout",
     "output_type": "stream",
     "text": [
      "You are failed \n"
     ]
    }
   ],
   "source": [
    "# using relational operators \n",
    "marks : int = int(input('Enter Your Marks:'))\n",
    "\n",
    "\n",
    "if (marks >= 33) and (marks <= 40) :\n",
    "    print('You Are Passed ')\n",
    "elif ( marks >= 50) and  (marks < 70) :\n",
    "    print('work hard')\n",
    "elif (marks >= 70) and  (marks < 90) :\n",
    "    print('You got good grades')             # using elif statements \n",
    "elif (marks >= 90) :\n",
    "    print('You have topped the class')\n",
    "else :\n",
    "    print('You are failed ')\n",
    "\n"
   ]
  },
  {
   "cell_type": "code",
   "execution_count": null,
   "metadata": {},
   "outputs": [],
   "source": []
  },
  {
   "cell_type": "code",
   "execution_count": null,
   "metadata": {},
   "outputs": [],
   "source": []
  }
 ],
 "metadata": {
  "kernelspec": {
   "display_name": "myenv",
   "language": "python",
   "name": "python3"
  },
  "language_info": {
   "codemirror_mode": {
    "name": "ipython",
    "version": 3
   },
   "file_extension": ".py",
   "mimetype": "text/x-python",
   "name": "python",
   "nbconvert_exporter": "python",
   "pygments_lexer": "ipython3",
   "version": "3.12.3"
  }
 },
 "nbformat": 4,
 "nbformat_minor": 2
}
