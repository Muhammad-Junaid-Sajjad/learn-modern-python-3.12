{
 "cells": [
  {
   "cell_type": "markdown",
   "metadata": {},
   "source": [
    "# Welcome  TO Eric Matthes Crash Course \n",
    "This space is solely for Solving \"TRY YOUR SELF\" exercises of python book"
   ]
  },
  {
   "cell_type": "code",
   "execution_count": 100,
   "metadata": {},
   "outputs": [
    {
     "name": "stdout",
     "output_type": "stream",
     "text": [
      "Hello Eric, To Python Crash Course Reader\n"
     ]
    }
   ],
   "source": [
    "print('Hello Eric, To Python Crash Course Reader')"
   ]
  },
  {
   "cell_type": "markdown",
   "metadata": {},
   "source": [
    "# Chapter 3-    INTRODUCING LIST"
   ]
  },
  {
   "cell_type": "markdown",
   "metadata": {},
   "source": [
    "3-1. Names: Store the names of a few of your friends in a list called names. Print Each person’s name by accessing each element in the list, one at a time."
   ]
  },
  {
   "cell_type": "code",
   "execution_count": 101,
   "metadata": {},
   "outputs": [
    {
     "name": "stdout",
     "output_type": "stream",
     "text": [
      "['Albert Einstein', 'Marie Curie', 'Peri Curie', 'Galileo']\n"
     ]
    }
   ],
   "source": [
    "# Step 1-Friend List declaration & initialization\n",
    "friends : list[str] =  ['Albert Einstein','Marie Curie','Peri Curie','Galileo']\n",
    "# Printing Friend List \n",
    "print(friends)"
   ]
  },
  {
   "cell_type": "code",
   "execution_count": 102,
   "metadata": {},
   "outputs": [
    {
     "name": "stdout",
     "output_type": "stream",
     "text": [
      "Albert Einstein\n",
      "Marie Curie\n",
      "Peri Curie\n"
     ]
    }
   ],
   "source": [
    "# Step 2-Assessing List Elements by Indexing\n",
    "print(friends[0])\n",
    "print(friends[1])\n",
    "print(friends[2])"
   ]
  },
  {
   "cell_type": "code",
   "execution_count": 103,
   "metadata": {},
   "outputs": [
    {
     "data": {
      "text/plain": [
       "'Galileo'"
      ]
     },
     "execution_count": 103,
     "metadata": {},
     "output_type": "execute_result"
    }
   ],
   "source": [
    "# Step 3-Assessing List elements Directly\n",
    "friends[3]"
   ]
  },
  {
   "cell_type": "markdown",
   "metadata": {},
   "source": [
    "3-2. Greetings: Start with the list you used in Exercise 3-1, but instead of just\n",
    "printing each person’s name, print a message to them. The text of each mes-\n",
    "sage should be the same, but each message should be personalized with the\n",
    "person’s name."
   ]
  },
  {
   "cell_type": "code",
   "execution_count": 104,
   "metadata": {},
   "outputs": [
    {
     "name": "stdout",
     "output_type": "stream",
     "text": [
      "Happy To Meet You\n"
     ]
    }
   ],
   "source": [
    "# PStep 1-Initializing Message For List Members\n",
    "message : [str] = \"Happy To Meet You\" \n",
    "print(message)"
   ]
  },
  {
   "cell_type": "code",
   "execution_count": 105,
   "metadata": {},
   "outputs": [
    {
     "name": "stdout",
     "output_type": "stream",
     "text": [
      "Happy To Meet You Albert Einstein\n",
      "Happy To Meet You Marie Curie\n",
      "Happy To Meet You Peri Curie\n",
      "Happy To Meet You Galileo\n"
     ]
    }
   ],
   "source": [
    "# Step 2-Printing Message For Individuals \n",
    "print(f\"{message} {friends[0]}\")\n",
    "print(f\"{message} {friends[1]}\") \n",
    "print(f\"{message} {friends[2]}\")\n",
    "print(f\"{message} {friends[3]}\")\n"
   ]
  },
  {
   "cell_type": "code",
   "execution_count": 106,
   "metadata": {},
   "outputs": [
    {
     "data": {
      "text/plain": [
       "'Happy To Meet You Galileo'"
      ]
     },
     "execution_count": 106,
     "metadata": {},
     "output_type": "execute_result"
    }
   ],
   "source": [
    "# Step 3-Printing List Elements Directly\n",
    " \n",
    "f\"{message} {friends[0]}\"       # only 01 of them Runs at a time \n",
    "# f\"{message} {friends[1]}\"\n",
    "f\"{message} {friends[2]}\"       #  only the latest one runs when all printed simultaneously   \n",
    "f\"{message} {friends[3]}\""
   ]
  },
  {
   "cell_type": "markdown",
   "metadata": {},
   "source": [
    "3-3. Your Own List: Think of your favorite mode of transportation, such as a\n",
    "motorcycle or a car, and make a list that stores several examples. Use your list\n",
    "to print a series of statements about these items, such as “I would like to own a\n",
    "Honda motorcycle.”"
   ]
  },
  {
   "cell_type": "code",
   "execution_count": 107,
   "metadata": {},
   "outputs": [
    {
     "data": {
      "text/plain": [
       "['Bicycle', 'Honda_Civics_Car', 'Tesla_Car', 'Mercedes_Car', 'Audi_A6']"
      ]
     },
     "execution_count": 107,
     "metadata": {},
     "output_type": "execute_result"
    }
   ],
   "source": [
    "# Step 1-Creating New list : Favorite_transport\n",
    "favorite_transport : list[str] = ['Bicycle','Honda_Civics_Car','Tesla_Car','Mercedes_Car','Audi_A6']\n",
    "# Printing transport list \n",
    "favorite_transport"
   ]
  },
  {
   "cell_type": "code",
   "execution_count": 108,
   "metadata": {},
   "outputs": [],
   "source": [
    "# Step 2-Initialization of Statements\n",
    "note_01 : str = \" I loves to go with \"\n",
    "note_02 : str = \" For comfort i would take \"\n",
    "note_03 : str = \" For enjoyment i prefer  \"\n",
    "note_04 : str = \" For showing off i like \"\n",
    "note_05 : str = \" For quick travel i use \""
   ]
  },
  {
   "cell_type": "code",
   "execution_count": 109,
   "metadata": {},
   "outputs": [
    {
     "name": "stdout",
     "output_type": "stream",
     "text": [
      " I loves to go with  Bicycle\n",
      " For comfort i would take  Honda_Civics_Car\n",
      " For enjoyment i prefer   Tesla_Car\n",
      " For showing off i like  Mercedes_Car\n"
     ]
    }
   ],
   "source": [
    "# Step 3-Printing Statements With Individual List Elements\n",
    "print(f\"{note_01} {favorite_transport[0]}\")\n",
    "print(f\"{note_02} {favorite_transport[1]}\")\n",
    "print(f\"{note_03} {favorite_transport[2]}\")\n",
    "print(f\"{note_04} {favorite_transport[3]}\")\n"
   ]
  },
  {
   "cell_type": "markdown",
   "metadata": {},
   "source": [
    "# Modifying Element in a list \n"
   ]
  },
  {
   "cell_type": "code",
   "execution_count": 110,
   "metadata": {},
   "outputs": [
    {
     "name": "stdout",
     "output_type": "stream",
     "text": [
      "['honda', 'yamaha', 'suzuki']\n",
      "['honda', 'yamaha', 'suzuki']\n"
     ]
    }
   ],
   "source": [
    "# New List \n",
    "motorcycles : list[str] = ['honda', 'yamaha', 'suzuki']\n",
    "print(motorcycles)\n",
    "# Modifying List Element \n",
    "# motorcycles[0] = 'ducati'\n",
    "print(motorcycles)"
   ]
  },
  {
   "cell_type": "code",
   "execution_count": 111,
   "metadata": {},
   "outputs": [
    {
     "data": {
      "text/plain": [
       "['honda', 'Yamaha', 'suzuki']"
      ]
     },
     "execution_count": 111,
     "metadata": {},
     "output_type": "execute_result"
    }
   ],
   "source": [
    "motorcycles[1] : list[str] = 'Yamaha'\n",
    "# Printing List Element \n",
    "motorcycles"
   ]
  },
  {
   "cell_type": "markdown",
   "metadata": {},
   "source": [
    "# Adding Elements to a List\n",
    "Appending Elements to the End of a List"
   ]
  },
  {
   "cell_type": "code",
   "execution_count": 112,
   "metadata": {},
   "outputs": [
    {
     "name": "stdout",
     "output_type": "stream",
     "text": [
      "['honda', 'Yamaha', 'suzuki']\n"
     ]
    }
   ],
   "source": [
    "# previous list elements\n",
    "print( motorcycles )"
   ]
  },
  {
   "cell_type": "code",
   "execution_count": 113,
   "metadata": {},
   "outputs": [
    {
     "data": {
      "text/plain": [
       "['honda', 'Yamaha', 'suzuki', 'Ducati']"
      ]
     },
     "execution_count": 113,
     "metadata": {},
     "output_type": "execute_result"
    }
   ],
   "source": [
    "# Appending Element to List \n",
    "motorcycles.append('Ducati')\n",
    "motorcycles                                # List element has been appended , \"Ducati\" is now included , but in the end "
   ]
  },
  {
   "cell_type": "markdown",
   "metadata": {},
   "source": [
    "The append() method makes it easy to build lists dynamically.\n",
    "start with an empty list and then add items to the list using a series\n",
    "of append() calls."
   ]
  },
  {
   "cell_type": "code",
   "execution_count": 114,
   "metadata": {},
   "outputs": [
    {
     "name": "stdout",
     "output_type": "stream",
     "text": [
      "[]\n"
     ]
    }
   ],
   "source": [
    "# creating new list \n",
    "motorcycles : list = []             # since this list totally based on user choice so we cant mentions \"list[str]\"here with motorcycles \n",
    "# Printing empty List \n",
    "print(motorcycles)"
   ]
  },
  {
   "cell_type": "code",
   "execution_count": 115,
   "metadata": {},
   "outputs": [
    {
     "name": "stdout",
     "output_type": "stream",
     "text": [
      "[]\n"
     ]
    }
   ],
   "source": [
    "# printing empty list\n",
    "print(motorcycles) "
   ]
  },
  {
   "cell_type": "code",
   "execution_count": 116,
   "metadata": {},
   "outputs": [],
   "source": [
    "\n",
    "# Building Dynamic List \n",
    "motorcycles.append('Honda')\n",
    "# this function also return no value \n"
   ]
  },
  {
   "cell_type": "code",
   "execution_count": 117,
   "metadata": {},
   "outputs": [
    {
     "name": "stdout",
     "output_type": "stream",
     "text": [
      "['Honda']\n"
     ]
    }
   ],
   "source": [
    "# printing the list \n",
    "print(motorcycles)"
   ]
  },
  {
   "cell_type": "code",
   "execution_count": 118,
   "metadata": {},
   "outputs": [],
   "source": [
    "# Building Dynamic list \n",
    "motorcycles.append('Yamaha')\n",
    "motorcycles.append('Suzuki')\n"
   ]
  },
  {
   "cell_type": "code",
   "execution_count": 119,
   "metadata": {},
   "outputs": [
    {
     "data": {
      "text/plain": [
       "['Honda', 'Yamaha', 'Suzuki']"
      ]
     },
     "execution_count": 119,
     "metadata": {},
     "output_type": "execute_result"
    }
   ],
   "source": [
    "# printing this dynamic listing \n",
    "motorcycles"
   ]
  },
  {
   "cell_type": "markdown",
   "metadata": {},
   "source": [
    "# Inserting Elements into a List\n",
    "You can add a new element at any position in your list by using the insert()\n",
    "method.\n",
    "\n",
    " You do this by specifying the index of the new element and the\n",
    "value of the new item:"
   ]
  },
  {
   "cell_type": "code",
   "execution_count": 120,
   "metadata": {},
   "outputs": [
    {
     "data": {
      "text/plain": [
       "['Honda', 'Yamaha', 'Suzuki']"
      ]
     },
     "execution_count": 120,
     "metadata": {},
     "output_type": "execute_result"
    }
   ],
   "source": [
    "# printing list\n",
    "motorcycles"
   ]
  },
  {
   "cell_type": "code",
   "execution_count": 121,
   "metadata": {},
   "outputs": [],
   "source": [
    "# Inserting Function/Method \n",
    "motorcycles.insert(0,'Ducati') \n",
    "# this insert() method also return no value "
   ]
  },
  {
   "cell_type": "code",
   "execution_count": 122,
   "metadata": {},
   "outputs": [
    {
     "name": "stdout",
     "output_type": "stream",
     "text": [
      "['Ducati', 'Honda', 'Yamaha', 'Suzuki']\n"
     ]
    }
   ],
   "source": [
    "# printing list \n",
    "print(motorcycles)      # here insert() method will create a new element in the list at specified index position, while not affecting the original list "
   ]
  },
  {
   "cell_type": "markdown",
   "metadata": {},
   "source": [
    "# Removing Elements from a List\n",
    "Removing an Item Using the del Statement:\n",
    "\n",
    "If you know the position of the item you want to remove from a list, \n",
    "you can use the del statement:"
   ]
  },
  {
   "cell_type": "code",
   "execution_count": 123,
   "metadata": {},
   "outputs": [
    {
     "data": {
      "text/plain": [
       "['Ducati', 'Honda', 'Yamaha', 'Suzuki']"
      ]
     },
     "execution_count": 123,
     "metadata": {},
     "output_type": "execute_result"
    }
   ],
   "source": [
    "# element list \n",
    "motorcycles"
   ]
  },
  {
   "cell_type": "code",
   "execution_count": 124,
   "metadata": {},
   "outputs": [],
   "source": [
    "# using del method \n",
    "del motorcycles[0]\n",
    "# this del method gives no return value\n"
   ]
  },
  {
   "cell_type": "code",
   "execution_count": 125,
   "metadata": {},
   "outputs": [
    {
     "name": "stdout",
     "output_type": "stream",
     "text": [
      "['Honda', 'Yamaha', 'Suzuki']\n"
     ]
    }
   ],
   "source": [
    "# printing original list \n",
    "print(motorcycles)         \n",
    "\n",
    "# this function wil remove element from the list permanently, we cant access the removed value , \n",
    "# to access this removed value , pop() method is made for this convenience "
   ]
  },
  {
   "cell_type": "markdown",
   "metadata": {},
   "source": [
    "# Removing an Item Using the pop() Method\n",
    "By default, The pop() method removes the last item in a list, \n",
    "but it lets you work with that item after removing it."
   ]
  },
  {
   "cell_type": "code",
   "execution_count": 126,
   "metadata": {},
   "outputs": [
    {
     "name": "stdout",
     "output_type": "stream",
     "text": [
      "['Honda', 'Yamaha', 'Suzuki']\n"
     ]
    }
   ],
   "source": [
    "# motorcycles list \n",
    "print(motorcycles)"
   ]
  },
  {
   "cell_type": "code",
   "execution_count": 127,
   "metadata": {},
   "outputs": [
    {
     "name": "stdout",
     "output_type": "stream",
     "text": [
      "['Honda', 'Yamaha', 'Suzuki']\n"
     ]
    },
    {
     "data": {
      "text/plain": [
       "'Suzuki'"
      ]
     },
     "execution_count": 127,
     "metadata": {},
     "output_type": "execute_result"
    }
   ],
   "source": [
    "# Using pop() method with its default value, i.e no argument in parenthesis \"( )\"\n",
    "\n",
    "print(motorcycles)\n",
    "motorcycles.pop()   # output: suzuki will be popped as this method will gives a return type as per list members\n"
   ]
  },
  {
   "cell_type": "code",
   "execution_count": 128,
   "metadata": {},
   "outputs": [
    {
     "name": "stdout",
     "output_type": "stream",
     "text": [
      "['Honda', 'Yamaha']\n"
     ]
    }
   ],
   "source": [
    "# remaining list now \n",
    "print(motorcycles)"
   ]
  },
  {
   "cell_type": "markdown",
   "metadata": {},
   "source": [
    "# Popping Items from Any Position in a List\n",
    "You can use pop() to remove an item from any position in a list \n",
    "by including the index of the item you want to remove in parentheses:"
   ]
  },
  {
   "cell_type": "code",
   "execution_count": 129,
   "metadata": {},
   "outputs": [
    {
     "name": "stdout",
     "output_type": "stream",
     "text": [
      "Honda\n",
      "the first bike that owned was a Honda \n"
     ]
    }
   ],
   "source": [
    "first_owned : str = motorcycles.pop(0)  # we owned honda as our first bike \n",
    "print(first_owned) \n",
    "\n",
    "print(f'the first bike that owned was a {first_owned.title()} ')"
   ]
  },
  {
   "cell_type": "markdown",
   "metadata": {},
   "source": [
    "If you’re unsure whether to use the del statement or the pop() method,here’s a simple way to decide: \n",
    "\n",
    "when you want to delete an item from a list and not use that item in any way, use the del statement; \n",
    "\n",
    "if you want to use an item as you remove it, use the pop() method."
   ]
  },
  {
   "cell_type": "markdown",
   "metadata": {},
   "source": [
    "# Removing an Item by Value\n",
    "Sometimes you won’t know the position of the value you want to remove\n",
    "from a list. If you only know the value of the item you want to remove, you\n",
    "can use the remove() method."
   ]
  },
  {
   "cell_type": "code",
   "execution_count": 130,
   "metadata": {},
   "outputs": [
    {
     "name": "stdout",
     "output_type": "stream",
     "text": [
      "['Honda', 'Yamaha', 'Suzuki', 'Ducati']\n"
     ]
    }
   ],
   "source": [
    "# printing new list \n",
    "motorcycles : list[str] = ['Honda','Yamaha','Suzuki','Ducati']\n",
    "#printing list \n",
    "print(motorcycles)"
   ]
  },
  {
   "cell_type": "code",
   "execution_count": 131,
   "metadata": {},
   "outputs": [
    {
     "name": "stdout",
     "output_type": "stream",
     "text": [
      "['Honda', 'Yamaha', 'Suzuki']\n"
     ]
    }
   ],
   "source": [
    "# using remove() method\n",
    "motorcycles.remove('Ducati')            # removing Ducati from the list \n",
    "\n",
    "print(motorcycles)                    #   this function do not return any value"
   ]
  }
 ],
 "metadata": {
  "kernelspec": {
   "display_name": "Python 3",
   "language": "python",
   "name": "python3"
  },
  "language_info": {
   "codemirror_mode": {
    "name": "ipython",
    "version": 3
   },
   "file_extension": ".py",
   "mimetype": "text/x-python",
   "name": "python",
   "nbconvert_exporter": "python",
   "pygments_lexer": "ipython3",
   "version": "3.12.3"
  }
 },
 "nbformat": 4,
 "nbformat_minor": 2
}
