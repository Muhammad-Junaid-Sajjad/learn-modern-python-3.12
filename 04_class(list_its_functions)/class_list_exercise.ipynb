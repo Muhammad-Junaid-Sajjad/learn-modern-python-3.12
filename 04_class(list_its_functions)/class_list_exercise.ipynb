{
 "cells": [
  {
   "cell_type": "markdown",
   "metadata": {},
   "source": [
    "# Welcome to Python List Exercise "
   ]
  },
  {
   "cell_type": "code",
   "execution_count": 1,
   "metadata": {},
   "outputs": [
    {
     "name": "stdout",
     "output_type": "stream",
     "text": [
      "Hello Python Lovers !\n"
     ]
    }
   ],
   "source": [
    "# Printing Hello World\n",
    "print('Hello Python Lovers !')"
   ]
  },
  {
   "cell_type": "markdown",
   "metadata": {},
   "source": [
    "Exercise 3-1: Names\n",
    "●Task: Store the names of a few of your friends in a list called names. Print each person’s\n",
    "name by accessing each element in the list, one at a time."
   ]
  },
  {
   "cell_type": "code",
   "execution_count": 2,
   "metadata": {},
   "outputs": [
    {
     "data": {
      "text/plain": [
       "['Hanzla', 'Jahanzeb', 'Mubarra', 'Kamran']"
      ]
     },
     "execution_count": 2,
     "metadata": {},
     "output_type": "execute_result"
    }
   ],
   "source": [
    "# Creating Friend List \n",
    "names : list[str] = ['Hanzla','Jahanzeb','Mubarra','Kamran']\n",
    "# Printing friend Lit \n",
    "names"
   ]
  },
  {
   "cell_type": "code",
   "execution_count": 3,
   "metadata": {},
   "outputs": [
    {
     "name": "stdout",
     "output_type": "stream",
     "text": [
      "Hanzla\n",
      "Jahanzeb\n"
     ]
    }
   ],
   "source": [
    "# Printing List Element By Indexing \n",
    "print(names[0])\n",
    "print(names[1]) "
   ]
  },
  {
   "cell_type": "code",
   "execution_count": 4,
   "metadata": {},
   "outputs": [
    {
     "name": "stdout",
     "output_type": "stream",
     "text": [
      "Mubarra\n",
      "Kamran\n"
     ]
    }
   ],
   "source": [
    "# Printing List Elements \n",
    "print(names[2])\n",
    "print(names[3])"
   ]
  },
  {
   "cell_type": "markdown",
   "metadata": {},
   "source": [
    "Exercise 3-2: Greetings\n",
    "●Task: Start with the list you used in Exercise 3-1. Instead of just printing each person’s\n",
    "name, print a message to them. The text of each message should be the same, but each\n",
    "message should be personalized with the person’s name."
   ]
  },
  {
   "cell_type": "code",
   "execution_count": 5,
   "metadata": {},
   "outputs": [
    {
     "name": "stdout",
     "output_type": "stream",
     "text": [
      "Hi Dear Hanzla\n"
     ]
    }
   ],
   "source": [
    "# Message Printing For List \n",
    "message : str = \"Hi Dear\"\n",
    "# Printing Message To List Individuals\n",
    "print(f\"{message} {names[0]}\")"
   ]
  },
  {
   "cell_type": "code",
   "execution_count": 6,
   "metadata": {},
   "outputs": [
    {
     "name": "stdout",
     "output_type": "stream",
     "text": [
      "Hi Dear Jahanzeb\n",
      "Hi Dear Mubarra\n",
      "Hi Dear Kamran\n"
     ]
    }
   ],
   "source": [
    "# Printing Names with Messages\n",
    "print(f\"{message} {names[1]}\")\n",
    "print(f\"{message} {names[2]}\")\n",
    "print(f\"{message} {names[3]}\")"
   ]
  },
  {
   "cell_type": "markdown",
   "metadata": {},
   "source": [
    "Exercise 3-3: Your Own List\n",
    "● Task: Think of your favorite mode of transportation, such as a motorcycle or a car, and\n",
    "make a list that stores several examples. Use your list to print a series of statements\n",
    "about these items, such as “I would like to own a Honda motorcycle.”"
   ]
  },
  {
   "cell_type": "code",
   "execution_count": 7,
   "metadata": {},
   "outputs": [
    {
     "data": {
      "text/plain": [
       "['Bicycle', 'Car', 'Train', 'Helicopter']"
      ]
     },
     "execution_count": 7,
     "metadata": {},
     "output_type": "execute_result"
    }
   ],
   "source": [
    "# New List For Transport\n",
    "transport : list[str] = ['Bicycle','Car','Train','Helicopter']\n",
    "# Printing New List\n",
    "transport "
   ]
  },
  {
   "cell_type": "code",
   "execution_count": 8,
   "metadata": {},
   "outputs": [],
   "source": [
    "message_01 : str = \"I will ride\"                        # Message Printing For List \n",
    "message_02 : str = \"I would Love to drive\"\n",
    "message_03 : str = \"Enjoy going by\"                     # Message Printing For List \n",
    "message_04 : str = \"The Best & Quick Journey is with\""
   ]
  },
  {
   "cell_type": "code",
   "execution_count": 9,
   "metadata": {},
   "outputs": [
    {
     "name": "stdout",
     "output_type": "stream",
     "text": [
      "I will ride Bicycle\n",
      "I would Love to drive Car\n",
      "Enjoy going by Train\n"
     ]
    }
   ],
   "source": [
    "# Printing Message With List Members\n",
    "print(f\"{message_01} {transport[0]}\")\n",
    "print(f\"{message_02} {transport[1]}\")\n",
    "print(f'{message_03} {transport[2]}')                   # Using Single Quotation wit F-String_literal"
   ]
  },
  {
   "cell_type": "code",
   "execution_count": 10,
   "metadata": {},
   "outputs": [
    {
     "data": {
      "text/plain": [
       "'The Best & Quick Journey is with Helicopter'"
      ]
     },
     "execution_count": 10,
     "metadata": {},
     "output_type": "execute_result"
    }
   ],
   "source": [
    "# Printing Last Message \n",
    "f'{message_04} {transport[-1]}'"
   ]
  },
  {
   "cell_type": "markdown",
   "metadata": {},
   "source": [
    "Exercise 3-4: Guest List\n",
    "● Task: If you could invite anyone, living or deceased, to dinner, who would you invite?\n",
    "Make a list that includes at least three people you’d like to invite to dinner. Then use your\n",
    "list to print a message to each person, inviting them to dinner."
   ]
  },
  {
   "cell_type": "code",
   "execution_count": 11,
   "metadata": {},
   "outputs": [
    {
     "name": "stdout",
     "output_type": "stream",
     "text": [
      "['Jahanzeb', 'Mubarra ', 'Zia Khan']\n"
     ]
    }
   ],
   "source": [
    "guest_list: list[str] = ['Jahanzeb', 'Mubarra ', 'Zia Khan']\n",
    "# printing guest list \n",
    "print(guest_list)\n",
    "\n"
   ]
  },
  {
   "cell_type": "code",
   "execution_count": 12,
   "metadata": {},
   "outputs": [
    {
     "name": "stdout",
     "output_type": "stream",
     "text": [
      "Dear, Mr.Jahanzeb, you are invited to dinner.\n",
      "Dear, Mrs.Mubarra , you are invited to dinner.\n",
      "Dear, Mr.Zia Khan, you are invited to dinner.\n"
     ]
    }
   ],
   "source": [
    "# Invitation messages printing \n",
    "print(f\"Dear, Mr.{guest_list[0]}, you are invited to dinner.\")  \n",
    "print(f\"Dear, Mrs.{guest_list[1]}, you are invited to dinner.\")  \n",
    "print(f\"Dear, Mr.{guest_list[2]}, you are invited to dinner.\")  \n"
   ]
  },
  {
   "cell_type": "markdown",
   "metadata": {},
   "source": [
    "Exercise 3-5: Changing Guest List\n",
    "Task: Start with your program from Exercise 3-4. Add a print() call at the end of your program, stating the name of the guest who can’t make it. Modify your list, replacing the name of the guest who can’t make it with the name of the new person you are inviting. Print a second set of invitation messages, one for each person who is still in your list."
   ]
  },
  {
   "cell_type": "code",
   "execution_count": 13,
   "metadata": {},
   "outputs": [
    {
     "name": "stdout",
     "output_type": "stream",
     "text": [
      "Unfortunately, Mubarra  can't make it to dinner.\n"
     ]
    }
   ],
   "source": [
    "guest_list: list[str] = ['Jahanzeb', 'Mubarra ', 'Zia Khan']\n",
    "\n",
    "\n",
    "# Guest who can't make it to dinner \n",
    "unable_to_attend: str = guest_list[1]\n",
    "print(f\"Unfortunately, {unable_to_attend} can't make it to dinner.\") \n",
    "\n"
   ]
  },
  {
   "cell_type": "code",
   "execution_count": 14,
   "metadata": {},
   "outputs": [
    {
     "name": "stdout",
     "output_type": "stream",
     "text": [
      "['Jahanzeb', 'Ameen_Alam', 'Zia Khan']\n"
     ]
    }
   ],
   "source": [
    "# Replace Mubarra with Ameen_Alam\n",
    "guest_list[1] = \"Ameen_Alam\"\n",
    "\n",
    "# printing guest list\n",
    "print(guest_list)"
   ]
  },
  {
   "cell_type": "code",
   "execution_count": 15,
   "metadata": {},
   "outputs": [
    {
     "name": "stdout",
     "output_type": "stream",
     "text": [
      "Jahanzeb, you are invited to dinner.\n",
      "Ameen_Alam, you are invited to dinner.\n",
      "Zia Khan, you are invited to dinner.\n"
     ]
    }
   ],
   "source": [
    "# Updated & New  invitation messages printing \n",
    "print(f\"{guest_list[0]}, you are invited to dinner.\")  \n",
    "print(f\"{guest_list[1]}, you are invited to dinner.\") \n",
    "print(f\"{guest_list[2]}, you are invited to dinner.\")  \n"
   ]
  },
  {
   "cell_type": "markdown",
   "metadata": {},
   "source": [
    "Exercise 3-6: More Guests\n",
    "Task: Start with your program from Exercise 3-4 or 3-5. Add a print() call to the end of your program, informing people that you found a bigger table. Use insert() to add one new guest to the beginning of your list. Use insert() to add one new guest to the middle of your list. Use append() to add one new guest to the end of your list. Print a new set of invitation messages, one for each person in your list."
   ]
  },
  {
   "cell_type": "code",
   "execution_count": 16,
   "metadata": {},
   "outputs": [
    {
     "name": "stdout",
     "output_type": "stream",
     "text": [
      "Good news! We found a bigger table.\n",
      "['Jahanzeb', 'Mubarra ', 'Zia Khan']\n"
     ]
    }
   ],
   "source": [
    "# Guest list formation\n",
    "guest_list: list[str] =  ['Jahanzeb', 'Mubarra ', 'Zia Khan']\n",
    "\n",
    "# Informing teachers about a bigger table\n",
    "print(\"Good news! We found a bigger table.\")\n",
    "# Printing Guest list \n",
    "print(guest_list)"
   ]
  },
  {
   "cell_type": "code",
   "execution_count": 17,
   "metadata": {},
   "outputs": [],
   "source": [
    "# Adding more guests at specified index\n",
    "\n",
    "guest_list.insert(0,'Zeeshan Hanif')  \n",
    "guest_list.insert(2,'Muhammad Junaid') \n",
    "guest_list.append('Ameen Alam')             # using append()method by default...\n",
    "\n"
   ]
  },
  {
   "cell_type": "code",
   "execution_count": 18,
   "metadata": {},
   "outputs": [
    {
     "name": "stdout",
     "output_type": "stream",
     "text": [
      "Zeeshan Hanif, you are invited to dinner.\n",
      "Jahanzeb, you are invited to dinner.\n",
      "Muhammad Junaid, you are invited to dinner.\n"
     ]
    }
   ],
   "source": [
    "# printing New Invitation Messages\n",
    "print(f\"{guest_list[0]}, you are invited to dinner.\")\n",
    "print(f\"{guest_list[1]}, you are invited to dinner.\")  \n",
    "print(f\"{guest_list[2]}, you are invited to dinner.\")  "
   ]
  },
  {
   "cell_type": "code",
   "execution_count": 19,
   "metadata": {},
   "outputs": [
    {
     "name": "stdout",
     "output_type": "stream",
     "text": [
      "Mubarra , you are invited to dinner.\n",
      "Zia Khan, you are invited to dinner.\n",
      "Ameen Alam, you are invited to dinner.\n"
     ]
    }
   ],
   "source": [
    "# Printing New Invitation Messages\n",
    "print(f\"{guest_list[3]}, you are invited to dinner.\") \n",
    "print(f\"{guest_list[4]}, you are invited to dinner.\") \n",
    "print(f\"{guest_list[5]}, you are invited to dinner.\") "
   ]
  },
  {
   "cell_type": "code",
   "execution_count": 20,
   "metadata": {},
   "outputs": [
    {
     "name": "stdout",
     "output_type": "stream",
     "text": [
      "['Zeeshan Hanif', 'Jahanzeb', 'Muhammad Junaid', 'Mubarra ', 'Zia Khan', 'Ameen Alam']\n"
     ]
    }
   ],
   "source": [
    "# Printing All Guest List \n",
    "print(guest_list)"
   ]
  },
  {
   "cell_type": "markdown",
   "metadata": {},
   "source": [
    "Exercise 3-7: Shrinking Guest List\n",
    "Task: Start with your program from Exercise 3-6. \n",
    "\n",
    "Add a new line that prints a message saying that you can invite only two people for dinner. Use pop() to remove guests from your list one at a time until only two names remain in your list. \n",
    "Each time you pop a name from your list, \n",
    "\n",
    "print a message to that person letting them know you’re sorry you can’t invite them to dinner. Print a message to each of the two people still on your list, letting them know they’re still invited. Use del to remove the last two names from your list, so you have an empty list. Print your list to make sure you actually have an empty list at the end of your program."
   ]
  },
  {
   "cell_type": "code",
   "execution_count": 21,
   "metadata": {},
   "outputs": [
    {
     "name": "stdout",
     "output_type": "stream",
     "text": [
      "Sorry, I can invite only two people for dinner.\n"
     ]
    }
   ],
   "source": [
    "# Using Guest List \n",
    "guest_list: list[str] = ['Zeeshan Hanif', 'Jahanzeb', 'Muhammad Junaid', 'Mubarra ', 'Zia Khan', 'Ameen Alam']\n",
    "\n",
    "# Inviting  only two people\n",
    "print(\"Sorry, I can invite only two people for dinner.\")"
   ]
  },
  {
   "cell_type": "code",
   "execution_count": 22,
   "metadata": {},
   "outputs": [],
   "source": [
    "# Guest Removal until only two remain\n",
    "removed_guest: str = guest_list.pop()   # pop() Method used here "
   ]
  },
  {
   "cell_type": "code",
   "execution_count": 23,
   "metadata": {},
   "outputs": [
    {
     "name": "stdout",
     "output_type": "stream",
     "text": [
      "Sorry, Ameen Alam, I can't invite you to dinner.\n",
      "Sorry, Zia Khan, I can't invite you to dinner.\n"
     ]
    }
   ],
   "source": [
    "print(f\"Sorry, {removed_guest}, I can't invite you to dinner.\") \n",
    "# Again A Guest Removed From List\n",
    "removed_guest = guest_list.pop()\n",
    "# Printing Sorry Message\n",
    "print(f\"Sorry, {removed_guest}, I can't invite you to dinner.\") "
   ]
  },
  {
   "cell_type": "code",
   "execution_count": 24,
   "metadata": {},
   "outputs": [
    {
     "name": "stdout",
     "output_type": "stream",
     "text": [
      "Sorry, Mubarra , I can't invite you to dinner.\n"
     ]
    }
   ],
   "source": [
    "# Again A Guest Removed From List\n",
    "removed_guest = guest_list.pop()\n",
    "# Printing Sorry Message\n",
    "print(f\"Sorry, {removed_guest}, I can't invite you to dinner.\")  "
   ]
  },
  {
   "cell_type": "code",
   "execution_count": 25,
   "metadata": {},
   "outputs": [
    {
     "name": "stdout",
     "output_type": "stream",
     "text": [
      "Sorry, Muhammad Junaid, I can't invite you to dinner.\n"
     ]
    }
   ],
   "source": [
    "# Again A Guest Removed From List\n",
    "removed_guest = guest_list.pop()\n",
    "# Printing Sorry Message\n",
    "print(f\"Sorry, {removed_guest}, I can't invite you to dinner.\")  "
   ]
  },
  {
   "cell_type": "code",
   "execution_count": 26,
   "metadata": {},
   "outputs": [
    {
     "name": "stdout",
     "output_type": "stream",
     "text": [
      "Zeeshan Hanif, you are still invited to dinner.\n",
      "Jahanzeb, you are still invited to dinner.\n"
     ]
    }
   ],
   "source": [
    "\n",
    "# Invitation Message To Remaining Guests\n",
    "print(f\"{guest_list[0]}, you are still invited to dinner.\") \n",
    "print(f\"{guest_list[1]}, you are still invited to dinner.\") "
   ]
  },
  {
   "cell_type": "code",
   "execution_count": 27,
   "metadata": {},
   "outputs": [
    {
     "name": "stdout",
     "output_type": "stream",
     "text": [
      "['Zeeshan Hanif', 'Jahanzeb']\n"
     ]
    }
   ],
   "source": [
    "# Printing The Guest LISt \n",
    "print(guest_list)"
   ]
  },
  {
   "cell_type": "code",
   "execution_count": 28,
   "metadata": {},
   "outputs": [],
   "source": [
    "# Remove last two names\n",
    "del guest_list[0]\n",
    "del guest_list[0]           # del method used here with indexing ..."
   ]
  },
  {
   "cell_type": "code",
   "execution_count": 29,
   "metadata": {},
   "outputs": [
    {
     "name": "stdout",
     "output_type": "stream",
     "text": [
      "[]\n"
     ]
    }
   ],
   "source": [
    "# Verify the list is empty\n",
    "print(guest_list)  \n",
    "# Output: []"
   ]
  },
  {
   "cell_type": "markdown",
   "metadata": {},
   "source": [
    "Exercise 3-8: Seeing the World\n",
    "Task: \n",
    "\n",
    "Think of at least five places in the world you’d like to visit. Store the locations in a list. Make sure the list is not in alphabetical order.\n",
    "\n",
    "Print your list in its original order. Don’t worry about printing the list neatly; just print it as a raw Python list. \n",
    "\n",
    "Use sorted() to print your list in alphabetical order without modifying the actual list. \n",
    "\n",
    "Show that your list is still in its original order by printing it. \n",
    "\n",
    "Use sorted() to print your list in reverse-alphabetical order without changing the order of the original list.\n",
    "\n",
    "Show that your list is still in its original order by printing it again.\n",
    "\n",
    " Use reverse() to change the order of your list. Print the list to show that its order has changed. Use reverse() to change the order of your list again. \n",
    "\n",
    "Print the list to show it’s back to its original order. \n",
    "\n",
    "Use sort() to change your list so it’s stored in alphabetical order.\n",
    "\n",
    "Print the list to show that its order has been changed. \n",
    "\n",
    "Use sort() to change your list so it’s stored in reverse-alphabetical order. Print the list to show that its order has changed."
   ]
  },
  {
   "cell_type": "code",
   "execution_count": 30,
   "metadata": {},
   "outputs": [
    {
     "name": "stdout",
     "output_type": "stream",
     "text": [
      "['Paris', 'Tokyo', 'New York', 'Sydney', 'Cairo']\n"
     ]
    }
   ],
   "source": [
    "places: list[str] = [\"Paris\", \"Tokyo\", \"New York\", \"Sydney\", \"Cairo\"]\n",
    "\n",
    "# Original order\n",
    "print(places)  "
   ]
  },
  {
   "cell_type": "code",
   "execution_count": 31,
   "metadata": {},
   "outputs": [
    {
     "name": "stdout",
     "output_type": "stream",
     "text": [
      "['Cairo', 'New York', 'Paris', 'Sydney', 'Tokyo']\n"
     ]
    }
   ],
   "source": [
    "# Alphabetical order\n",
    "print(sorted(places)) "
   ]
  },
  {
   "cell_type": "code",
   "execution_count": 32,
   "metadata": {},
   "outputs": [
    {
     "name": "stdout",
     "output_type": "stream",
     "text": [
      "['Paris', 'Tokyo', 'New York', 'Sydney', 'Cairo']\n"
     ]
    }
   ],
   "source": [
    "# Original order again\n",
    "print(places)  "
   ]
  },
  {
   "cell_type": "code",
   "execution_count": 33,
   "metadata": {},
   "outputs": [
    {
     "name": "stdout",
     "output_type": "stream",
     "text": [
      "['Tokyo', 'Sydney', 'Paris', 'New York', 'Cairo']\n"
     ]
    }
   ],
   "source": [
    "\n",
    "# Reverse alphabetical order\n",
    "print(sorted(places, reverse=True)) \n"
   ]
  },
  {
   "cell_type": "code",
   "execution_count": 34,
   "metadata": {},
   "outputs": [
    {
     "name": "stdout",
     "output_type": "stream",
     "text": [
      "['Paris', 'Tokyo', 'New York', 'Sydney', 'Cairo']\n"
     ]
    }
   ],
   "source": [
    "# Original order again\n",
    "print(places)"
   ]
  },
  {
   "cell_type": "code",
   "execution_count": 35,
   "metadata": {},
   "outputs": [
    {
     "name": "stdout",
     "output_type": "stream",
     "text": [
      "['Cairo', 'Sydney', 'New York', 'Tokyo', 'Paris']\n"
     ]
    }
   ],
   "source": [
    "# Reverse the list\n",
    "places.reverse()\n",
    "print(places)  "
   ]
  },
  {
   "cell_type": "code",
   "execution_count": 36,
   "metadata": {},
   "outputs": [
    {
     "name": "stdout",
     "output_type": "stream",
     "text": [
      "['Paris', 'Tokyo', 'New York', 'Sydney', 'Cairo']\n"
     ]
    }
   ],
   "source": [
    "\n",
    "# Reverse it back to original\n",
    "places.reverse()\n",
    "print(places) "
   ]
  },
  {
   "cell_type": "code",
   "execution_count": 37,
   "metadata": {},
   "outputs": [
    {
     "name": "stdout",
     "output_type": "stream",
     "text": [
      "['Cairo', 'New York', 'Paris', 'Sydney', 'Tokyo']\n"
     ]
    }
   ],
   "source": [
    "\n",
    "# Sort in alphabetical order\n",
    "places.sort()\n",
    "print(places)  "
   ]
  },
  {
   "cell_type": "code",
   "execution_count": 38,
   "metadata": {},
   "outputs": [
    {
     "name": "stdout",
     "output_type": "stream",
     "text": [
      "['Cairo', 'New York', 'Paris', 'Sydney', 'Tokyo']\n"
     ]
    }
   ],
   "source": [
    "\n",
    "# Sort in alphabetical order\n",
    "places.sort()\n",
    "print(places) "
   ]
  },
  {
   "cell_type": "code",
   "execution_count": 39,
   "metadata": {},
   "outputs": [
    {
     "name": "stdout",
     "output_type": "stream",
     "text": [
      "['Tokyo', 'Sydney', 'Paris', 'New York', 'Cairo']\n"
     ]
    }
   ],
   "source": [
    "# Sort in reverse alphabetical order\n",
    "places.sort(reverse=True)\n",
    "print(places) "
   ]
  },
  {
   "cell_type": "code",
   "execution_count": 40,
   "metadata": {},
   "outputs": [
    {
     "name": "stdout",
     "output_type": "stream",
     "text": [
      "['Tokyo', 'Sydney', 'Paris', 'New York', 'Cairo']\n"
     ]
    }
   ],
   "source": [
    "# Print List Again \n",
    "print(places)"
   ]
  },
  {
   "cell_type": "markdown",
   "metadata": {},
   "source": [
    "Exercise 3-9: Every Function\n",
    "●\n",
    "Task: Think of things you could store in a list. For example, you could make a list of\n",
    "mountains, rivers, countries, cities, languages, or anything else you’d like. Write a\n",
    "program that creates a list containing these items and then uses each function\n",
    "introduced in this chapter at least once."
   ]
  },
  {
   "cell_type": "code",
   "execution_count": 41,
   "metadata": {},
   "outputs": [
    {
     "name": "stdout",
     "output_type": "stream",
     "text": [
      "['Apple', 'Banana', 'Cherry', 'Date', 'Elderberry']\n"
     ]
    }
   ],
   "source": [
    "#  New List Formation\n",
    "fruits: list[str] = [\"Apple\", \"Banana\", \"Cherry\", \"Date\", \"Elderberry\"]\n",
    "# Printing fruit List \n",
    "print(fruits)"
   ]
  },
  {
   "cell_type": "code",
   "execution_count": 42,
   "metadata": {},
   "outputs": [
    {
     "name": "stdout",
     "output_type": "stream",
     "text": [
      "Apple\n",
      "Cherry\n"
     ]
    }
   ],
   "source": [
    "# Accessing elements using indexing\n",
    "print(fruits[0]) \n",
    "print(fruits[2])  "
   ]
  },
  {
   "cell_type": "code",
   "execution_count": 43,
   "metadata": {},
   "outputs": [
    {
     "name": "stdout",
     "output_type": "stream",
     "text": [
      "['Apple', 'Blueberry', 'Cherry', 'Date', 'Elderberry']\n"
     ]
    }
   ],
   "source": [
    "\n",
    "# Modifying an element\n",
    "fruits[1] = \"Blueberry\"\n",
    "print(fruits)"
   ]
  },
  {
   "cell_type": "code",
   "execution_count": 44,
   "metadata": {},
   "outputs": [
    {
     "name": "stdout",
     "output_type": "stream",
     "text": [
      "['Apple', 'Blueberry', 'Cherry', 'Date', 'Elderberry', 'Fig']\n"
     ]
    }
   ],
   "source": [
    "# Appending a new element to the end\n",
    "fruits.append(\"Fig\")\n",
    "print(fruits) "
   ]
  },
  {
   "cell_type": "code",
   "execution_count": 45,
   "metadata": {},
   "outputs": [
    {
     "name": "stdout",
     "output_type": "stream",
     "text": [
      "['Apple', 'Blueberry', 'Grape', 'Cherry', 'Date', 'Elderberry', 'Fig']\n"
     ]
    }
   ],
   "source": [
    "# Inserting an element at a specific position\n",
    "fruits.insert(2, \"Grape\")\n",
    "print(fruits) "
   ]
  },
  {
   "cell_type": "code",
   "execution_count": 46,
   "metadata": {},
   "outputs": [
    {
     "name": "stdout",
     "output_type": "stream",
     "text": [
      "['Apple', 'Blueberry', 'Grape', 'Cherry', 'Elderberry', 'Fig']\n"
     ]
    }
   ],
   "source": [
    "\n",
    "# Removing an element by its value\n",
    "fruits.remove(\"Date\")\n",
    "print(fruits)"
   ]
  },
  {
   "cell_type": "code",
   "execution_count": 47,
   "metadata": {},
   "outputs": [
    {
     "name": "stdout",
     "output_type": "stream",
     "text": [
      "Fig\n",
      "['Apple', 'Blueberry', 'Grape', 'Cherry', 'Elderberry']\n"
     ]
    }
   ],
   "source": [
    "# Using pop() Method to remove the last element and use it\n",
    "popped_fruit: str = fruits.pop()\n",
    "print(popped_fruit)  #                           Output: Fig...\n",
    "print(fruits)  "
   ]
  },
  {
   "cell_type": "code",
   "execution_count": 48,
   "metadata": {},
   "outputs": [
    {
     "name": "stdout",
     "output_type": "stream",
     "text": [
      "['Apple', 'Blueberry', 'Cherry', 'Elderberry', 'Grape']\n"
     ]
    }
   ],
   "source": [
    "\n",
    "# Sorting the list alphabetically\n",
    "fruits.sort()\n",
    "print(fruits)"
   ]
  },
  {
   "cell_type": "code",
   "execution_count": 49,
   "metadata": {},
   "outputs": [
    {
     "name": "stdout",
     "output_type": "stream",
     "text": [
      "['Grape', 'Elderberry', 'Cherry', 'Blueberry', 'Apple']\n"
     ]
    }
   ],
   "source": [
    "\n",
    "# Sorting the list in reverse alphabetical order\n",
    "fruits.sort(reverse=True)\n",
    "print(fruits)  \n"
   ]
  },
  {
   "cell_type": "code",
   "execution_count": 50,
   "metadata": {},
   "outputs": [
    {
     "name": "stdout",
     "output_type": "stream",
     "text": [
      "['Apple', 'Blueberry', 'Cherry', 'Elderberry', 'Grape']\n"
     ]
    }
   ],
   "source": [
    "\n",
    "# Reversing the order of the list\n",
    "fruits.reverse()\n",
    "print(fruits)"
   ]
  },
  {
   "cell_type": "code",
   "execution_count": 51,
   "metadata": {},
   "outputs": [
    {
     "name": "stdout",
     "output_type": "stream",
     "text": [
      "5\n"
     ]
    }
   ],
   "source": [
    "\n",
    "# Finding the length of the list\n",
    "length: int = len(fruits)\n",
    "print(length) "
   ]
  },
  {
   "cell_type": "code",
   "execution_count": 52,
   "metadata": {},
   "outputs": [
    {
     "name": "stdout",
     "output_type": "stream",
     "text": [
      "['Apple', 'Blueberry', 'Cherry', 'Elderberry', 'Grape']\n"
     ]
    }
   ],
   "source": [
    "# Printing List Again \n",
    "print(fruits)"
   ]
  },
  {
   "cell_type": "markdown",
   "metadata": {},
   "source": [
    "Exercise 3-10: Intentional Error\n",
    "Task: If you haven’t received an index error in one of your programs yet, try to make one happen. \n",
    "\n",
    "Change an index in one of your programs to produce an index error. Make sure you correct the error before closing the program.\n",
    "\n",
    "We can intentionally cause an index error by trying to access an index that doesn't exist in the list:\n"
   ]
  },
  {
   "cell_type": "code",
   "execution_count": 53,
   "metadata": {},
   "outputs": [
    {
     "name": "stdout",
     "output_type": "stream",
     "text": [
      "['Apple', 'Banana', 'Cherry']\n"
     ]
    }
   ],
   "source": [
    "# Original list\n",
    "fruits: list[str] = [\"Apple\", \"Banana\", \"Cherry\"]\n",
    "# Printing LIst \n",
    "print(fruits)"
   ]
  },
  {
   "cell_type": "markdown",
   "metadata": {},
   "source": [
    "# Error Handling with try-except Block:\n",
    "To handle the error gracefully, we used a try-except block. This allows us to catch the IndexError and print a message instead of stopping the program abruptly."
   ]
  },
  {
   "cell_type": "code",
   "execution_count": 54,
   "metadata": {},
   "outputs": [
    {
     "name": "stdout",
     "output_type": "stream",
     "text": [
      "Index_Error encountered: list index out of range\n"
     ]
    }
   ],
   "source": [
    "# Intentionally accessing an out-of-range index to produce an IndexError\n",
    "# This will raise an error because there is no index 3 (list indices are 0, 1, 2)\n",
    "try:\n",
    "    print(fruits[3]) \n",
    "# Intentionally incorrect\n",
    "except IndexError as e:\n",
    "    print(f\"Index_Error encountered: {e}\")  \n",
    "# Output: Index_Error encountered: list index out of range"
   ]
  },
  {
   "cell_type": "code",
   "execution_count": 55,
   "metadata": {},
   "outputs": [
    {
     "name": "stdout",
     "output_type": "stream",
     "text": [
      "Cherry\n"
     ]
    }
   ],
   "source": [
    "# Correcting the error by using a valid index\n",
    "print(fruits[2]) "
   ]
  },
  {
   "cell_type": "code",
   "execution_count": 56,
   "metadata": {},
   "outputs": [
    {
     "name": "stdout",
     "output_type": "stream",
     "text": [
      "['Apple', 'Banana', 'Cherry']\n"
     ]
    }
   ],
   "source": [
    "# Printing Fruits lit \n",
    "print(fruits)"
   ]
  },
  {
   "cell_type": "markdown",
   "metadata": {},
   "source": [
    "# Printing Thanks Message For Instructor "
   ]
  },
  {
   "cell_type": "code",
   "execution_count": 57,
   "metadata": {},
   "outputs": [
    {
     "name": "stdout",
     "output_type": "stream",
     "text": [
      "THANKS FOR YOUR HARD-WORK \n"
     ]
    }
   ],
   "source": [
    "# Print thanks \n",
    "print('THANKS FOR YOUR HARD-WORK ')"
   ]
  },
  {
   "cell_type": "code",
   "execution_count": 58,
   "metadata": {},
   "outputs": [
    {
     "name": "stdout",
     "output_type": "stream",
     "text": [
      "WE WILL MEET AGAIN SOON WITH NEW ASSIGNMENT WORK !\n"
     ]
    }
   ],
   "source": [
    "# New Message\n",
    "print('WE WILL MEET AGAIN SOON WITH NEW ASSIGNMENT WORK !')"
   ]
  },
  {
   "cell_type": "code",
   "execution_count": null,
   "metadata": {},
   "outputs": [],
   "source": []
  }
 ],
 "metadata": {
  "kernelspec": {
   "display_name": ".venv",
   "language": "python",
   "name": "python3"
  },
  "language_info": {
   "codemirror_mode": {
    "name": "ipython",
    "version": 3
   },
   "file_extension": ".py",
   "mimetype": "text/x-python",
   "name": "python",
   "nbconvert_exporter": "python",
   "pygments_lexer": "ipython3",
   "version": "3.12.3"
  }
 },
 "nbformat": 4,
 "nbformat_minor": 2
}
