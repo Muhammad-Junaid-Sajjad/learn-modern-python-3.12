{
 "cells": [
  {
   "cell_type": "markdown",
   "metadata": {},
   "source": [
    "# Welcome to Python List Exercise "
   ]
  },
  {
   "cell_type": "code",
   "execution_count": 2,
   "metadata": {},
   "outputs": [
    {
     "name": "stdout",
     "output_type": "stream",
     "text": [
      "Hello Python Lovers !\n"
     ]
    }
   ],
   "source": [
    "# Printing Hello World\n",
    "print('Hello Python Lovers !')"
   ]
  },
  {
   "cell_type": "markdown",
   "metadata": {},
   "source": [
    "Exercise 3-1: Names\n",
    "●Task: Store the names of a few of your friends in a list called names. Print each person’s\n",
    "name by accessing each element in the list, one at a time."
   ]
  },
  {
   "cell_type": "code",
   "execution_count": 2,
   "metadata": {},
   "outputs": [
    {
     "data": {
      "text/plain": [
       "['Hanzla', 'Jahanzeb', 'Mubarra', 'Kamran']"
      ]
     },
     "execution_count": 2,
     "metadata": {},
     "output_type": "execute_result"
    }
   ],
   "source": [
    "# Creating Friend List \n",
    "names : list[str] = ['Hanzla','Jahanzeb','Mubarra','Kamran']\n",
    "# Printing friend Lit \n",
    "names"
   ]
  },
  {
   "cell_type": "code",
   "execution_count": 7,
   "metadata": {},
   "outputs": [
    {
     "name": "stdout",
     "output_type": "stream",
     "text": [
      "Hanzla\n",
      "Jahanzeb\n"
     ]
    }
   ],
   "source": [
    "# Printing List Element By Indexing \n",
    "print(names[0])\n",
    "print(names[1]) "
   ]
  },
  {
   "cell_type": "code",
   "execution_count": 11,
   "metadata": {},
   "outputs": [
    {
     "name": "stdout",
     "output_type": "stream",
     "text": [
      "Mubarra\n",
      "Kamran\n"
     ]
    }
   ],
   "source": [
    "# Printing List Elements \n",
    "print(names[2])\n",
    "print(names[3])"
   ]
  },
  {
   "cell_type": "markdown",
   "metadata": {},
   "source": [
    "Exercise 3-2: Greetings\n",
    "●Task: Start with the list you used in Exercise 3-1. Instead of just printing each person’s\n",
    "name, print a message to them. The text of each message should be the same, but each\n",
    "message should be personalized with the person’s name."
   ]
  },
  {
   "cell_type": "code",
   "execution_count": 3,
   "metadata": {},
   "outputs": [
    {
     "name": "stdout",
     "output_type": "stream",
     "text": [
      "Hi Dear Hanzla\n"
     ]
    }
   ],
   "source": [
    "# Message Printing For List \n",
    "message : str = \"Hi Dear\"\n",
    "# Printing Message To List Individuals\n",
    "print(f\"{message} {names[0]}\")"
   ]
  },
  {
   "cell_type": "code",
   "execution_count": 4,
   "metadata": {},
   "outputs": [
    {
     "name": "stdout",
     "output_type": "stream",
     "text": [
      "Hi Dear Jahanzeb\n",
      "Hi Dear Mubarra\n",
      "Hi Dear Kamran\n"
     ]
    }
   ],
   "source": [
    "# Printing Names with Messages\n",
    "print(f\"{message} {names[1]}\")\n",
    "print(f\"{message} {names[2]}\")\n",
    "print(f\"{message} {names[3]}\")"
   ]
  },
  {
   "cell_type": "markdown",
   "metadata": {},
   "source": [
    "Exercise 3-3: Your Own List\n",
    "● Task: Think of your favorite mode of transportation, such as a motorcycle or a car, and\n",
    "make a list that stores several examples. Use your list to print a series of statements\n",
    "about these items, such as “I would like to own a Honda motorcycle.”"
   ]
  },
  {
   "cell_type": "code",
   "execution_count": 6,
   "metadata": {},
   "outputs": [
    {
     "data": {
      "text/plain": [
       "['Bicycle', 'Car', 'Train', 'Helicopter']"
      ]
     },
     "execution_count": 6,
     "metadata": {},
     "output_type": "execute_result"
    }
   ],
   "source": [
    "# New List For Transport\n",
    "transport : list[str] = ['Bicycle','Car','Train','Helicopter']\n",
    "# Printing New List\n",
    "transport "
   ]
  },
  {
   "cell_type": "code",
   "execution_count": 9,
   "metadata": {},
   "outputs": [],
   "source": [
    "message_01 : str = \"I will ride\"                        # Message Printing For List \n",
    "message_02 : str = \"I would Love to drive\"\n",
    "message_03 : str = \"Enjoy going by\"                     # Message Printing For List \n",
    "message_04 : str = \"The Best & Quick Journey is with\""
   ]
  },
  {
   "cell_type": "code",
   "execution_count": 11,
   "metadata": {},
   "outputs": [
    {
     "name": "stdout",
     "output_type": "stream",
     "text": [
      "I will ride Bicycle\n",
      "I would Love to drive Car\n",
      "Enjoy going by Train\n"
     ]
    }
   ],
   "source": [
    "# Printing Message With List Members\n",
    "print(f\"{message_01} {transport[0]}\")\n",
    "print(f\"{message_02} {transport[1]}\")\n",
    "print(f'{message_03} {transport[2]}')                   # Using Single Quotation wit F-String_literal"
   ]
  },
  {
   "cell_type": "code",
   "execution_count": 12,
   "metadata": {},
   "outputs": [
    {
     "data": {
      "text/plain": [
       "'The Best & Quick Journey is with Helicopter'"
      ]
     },
     "execution_count": 12,
     "metadata": {},
     "output_type": "execute_result"
    }
   ],
   "source": [
    "# Printing Last Message \n",
    "f'{message_04} {transport[-1]}'"
   ]
  },
  {
   "cell_type": "markdown",
   "metadata": {},
   "source": [
    "Exercise 3-4: Guest List\n",
    "● Task: If you could invite anyone, living or deceased, to dinner, who would you invite?\n",
    "Make a list that includes at least three people you’d like to invite to dinner. Then use your\n",
    "list to print a message to each person, inviting them to dinner."
   ]
  },
  {
   "cell_type": "code",
   "execution_count": null,
   "metadata": {},
   "outputs": [],
   "source": [
    "s"
   ]
  }
 ],
 "metadata": {
  "kernelspec": {
   "display_name": "Python (myenv)",
   "language": "python",
   "name": "myenv"
  },
  "language_info": {
   "codemirror_mode": {
    "name": "ipython",
    "version": 3
   },
   "file_extension": ".py",
   "mimetype": "text/x-python",
   "name": "python",
   "nbconvert_exporter": "python",
   "pygments_lexer": "ipython3",
   "version": "3.12.3"
  }
 },
 "nbformat": 4,
 "nbformat_minor": 2
}
