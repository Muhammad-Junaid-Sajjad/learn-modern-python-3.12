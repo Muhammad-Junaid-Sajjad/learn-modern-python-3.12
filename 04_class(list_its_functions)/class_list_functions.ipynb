{
 "cells": [
  {
   "cell_type": "markdown",
   "metadata": {},
   "source": [
    " # Python List function"
   ]
  },
  {
   "cell_type": "code",
   "execution_count": 1,
   "metadata": {},
   "outputs": [
    {
     "name": "stdout",
     "output_type": "stream",
     "text": [
      "Hello @Jupyter Notebook \n"
     ]
    }
   ],
   "source": [
    "print('Hello @Jupyter Notebook ')"
   ]
  },
  {
   "cell_type": "markdown",
   "metadata": {},
   "source": [
    "\n",
    "                                                     Here are the Python list methods:\n",
    "    \n",
    "# 1.    append()\n",
    "Definition:\n",
    "\n",
    "         Adds an element to the end of the list.\n",
    "\n",
    "Syntax:\n",
    "\n",
    "         list.append(element: Any) -> None\n",
    "\n",
    "Return Type:\n",
    "\n",
    "         None"
   ]
  },
  {
   "cell_type": "code",
   "execution_count": 2,
   "metadata": {},
   "outputs": [
    {
     "name": "stdout",
     "output_type": "stream",
     "text": [
      "['apple', 'banana', 'cherry']\n"
     ]
    }
   ],
   "source": [
    "# Example \n",
    "fruits: list[str] = ['apple', 'banana']\n",
    "fruits.append('cherry')\n",
    "print(fruits)  # Output: ['apple', 'banana', 'cherry']"
   ]
  },
  {
   "cell_type": "markdown",
   "metadata": {},
   "source": [
    "# 2. extend()\n",
    "Definition: \n",
    "\n",
    "        Extends the list by appending elements from an iterable.\n",
    "\n",
    "Syntax: \n",
    "\n",
    "        list.extend(iterable: Iterable[Any]) -> None\n",
    "\n",
    "Return Type:    \n",
    "\n",
    "        None\n",
    "\n",
    "Example:\n"
   ]
  },
  {
   "cell_type": "code",
   "execution_count": 3,
   "metadata": {},
   "outputs": [
    {
     "name": "stdout",
     "output_type": "stream",
     "text": [
      "[1, 2, 3, 4, 5]\n"
     ]
    }
   ],
   "source": [
    "numbers: list[int] = [1, 2, 3]\n",
    "numbers.extend([4, 5])\n",
    "print(numbers)  # Output: [1, 2, 3, 4, 5]\n"
   ]
  },
  {
   "cell_type": "markdown",
   "metadata": {},
   "source": [
    "# 3. insert()\n",
    "Definition:\n",
    "\n",
    "         Inserts an element at a specified position.\n",
    "\n",
    "Syntax:\n",
    "\n",
    "         list.insert(index: int, element: Any) -> None\n",
    "\n",
    "Return Type:\n",
    "\n",
    "         None\n",
    "\n",
    "Example:\n"
   ]
  },
  {
   "cell_type": "code",
   "execution_count": 4,
   "metadata": {},
   "outputs": [
    {
     "name": "stdout",
     "output_type": "stream",
     "text": [
      "[1, 4, 2, 3]\n"
     ]
    }
   ],
   "source": [
    "numbers: list[int] = [1, 2, 3]\n",
    "numbers.insert(1, 4)\n",
    "print(numbers)  # Output: [1, 4, 2, 3]\n"
   ]
  },
  {
   "cell_type": "markdown",
   "metadata": {},
   "source": [
    "# 4. remove()\n",
    "Definition:\n",
    "\n",
    "         Removes the first occurrence of a specified element.\n",
    "\n",
    "Syntax: \n",
    "\n",
    "        list.remove(element: Any) -> None\n",
    "\n",
    "Return Type:\n",
    "\n",
    "         None\n",
    "\n",
    "Example:\n"
   ]
  },
  {
   "cell_type": "code",
   "execution_count": 5,
   "metadata": {},
   "outputs": [
    {
     "name": "stdout",
     "output_type": "stream",
     "text": [
      "[1, 3, 2]\n"
     ]
    }
   ],
   "source": [
    "numbers: list[int] = [1, 2, 3, 2]\n",
    "numbers.remove(2)\n",
    "print(numbers)  # Output: [1, 3, 2]\n"
   ]
  },
  {
   "cell_type": "markdown",
   "metadata": {},
   "source": [
    "# 5. pop()\n",
    "Definition:\n",
    "\n",
    "        Removes and returns the element at a specified index (or the last element if no index is provided).\n",
    "\n",
    "Syntax: \n",
    "\n",
    "        list.pop(index: int = -1) -> Any\n",
    "\n",
    "Return Type:\n",
    "\n",
    "         Any\n"
   ]
  },
  {
   "cell_type": "code",
   "execution_count": 6,
   "metadata": {},
   "outputs": [
    {
     "name": "stdout",
     "output_type": "stream",
     "text": [
      "3\n",
      "[1, 2]\n"
     ]
    }
   ],
   "source": [
    "numbers: list[int] = [1, 2, 3]\n",
    "last_number: int = numbers.pop()\n",
    "print(last_number)  # Output: 3\n",
    "print(numbers)  # Output: [1, 2]\n"
   ]
  },
  {
   "cell_type": "markdown",
   "metadata": {},
   "source": [
    "# 6. clear()\n",
    "Definition:\n",
    "\n",
    "         Removes all elements from the list.\n",
    "\n",
    "Syntax: \n",
    "\n",
    "        list.clear() -> None\n",
    "\n",
    "Return Type: \n",
    "\n",
    "        None\n",
    "\n",
    "Example:\n"
   ]
  },
  {
   "cell_type": "code",
   "execution_count": 7,
   "metadata": {},
   "outputs": [
    {
     "name": "stdout",
     "output_type": "stream",
     "text": [
      "[]\n"
     ]
    }
   ],
   "source": [
    "numbers: list[int] = [1, 2, 3]\n",
    "numbers.clear()\n",
    "print(numbers)  # Output: []\n"
   ]
  },
  {
   "cell_type": "markdown",
   "metadata": {},
   "source": [
    "# 7. index()\n",
    "Definition: \n",
    "\n",
    "        Returns the index of the first occurrence of a specified element.\n",
    "\n",
    "Syntax: \n",
    "\n",
    "        list.index(element: Any, start: int = 0, end: int = -1) -> int\n",
    "\n",
    "Return Type:\n",
    "\n",
    "         int\n",
    "\n",
    "Example:\n"
   ]
  },
  {
   "cell_type": "code",
   "execution_count": 8,
   "metadata": {},
   "outputs": [
    {
     "name": "stdout",
     "output_type": "stream",
     "text": [
      "1\n"
     ]
    }
   ],
   "source": [
    "numbers: list[int] = [1, 2, 3, 2]\n",
    "index_of_two: int = numbers.index(2)\n",
    "print(index_of_two)  # Output: 1\n"
   ]
  },
  {
   "cell_type": "markdown",
   "metadata": {},
   "source": [
    "# 8. count()\n",
    "Definition:\n",
    "\n",
    "         Returns the number of occurrences of a specified element.\n",
    "\n",
    "Syntax:\n",
    "\n",
    "         list.count(element: Any) -> int\n",
    "\n",
    "Return Type:\n",
    "\n",
    "         int\n",
    "\n",
    "Example:\n"
   ]
  },
  {
   "cell_type": "code",
   "execution_count": 9,
   "metadata": {},
   "outputs": [
    {
     "name": "stdout",
     "output_type": "stream",
     "text": [
      "2\n"
     ]
    }
   ],
   "source": [
    "numbers: list[int] = [1, 2, 2, 3]\n",
    "count_of_two: int = numbers.count(2)\n",
    "print(count_of_two)  # Output: 2"
   ]
  },
  {
   "cell_type": "markdown",
   "metadata": {},
   "source": [
    "# 9. sort()\n",
    "Definition:\n",
    "\n",
    "         Sorts the elements of the list in ascending or descending order.\n",
    "\n",
    "Syntax: \n",
    "\n",
    "        list.sort(reverse: bool = False) -> None\n",
    "\n",
    "Return Type:\n",
    "    \n",
    "         None\n",
    "\n",
    "Example:\n"
   ]
  },
  {
   "cell_type": "code",
   "execution_count": 10,
   "metadata": {},
   "outputs": [
    {
     "name": "stdout",
     "output_type": "stream",
     "text": [
      "[1, 2, 3]\n"
     ]
    }
   ],
   "source": [
    "numbers: list[int] = [3, 1, 2]\n",
    "numbers.sort()\n",
    "print(numbers)  # Output: [1, 2, 3]\n"
   ]
  },
  {
   "cell_type": "markdown",
   "metadata": {},
   "source": [
    "# 10. reverse()\n",
    "Definition:\n",
    "\n",
    "         Reverses the elements of the list in place.\n",
    "\n",
    "Syntax: \n",
    "\n",
    "        list.reverse() -> None\n",
    "\n",
    "Return Type:\n",
    "\n",
    "         None\n",
    "\n",
    "Example:\n"
   ]
  },
  {
   "cell_type": "code",
   "execution_count": 11,
   "metadata": {},
   "outputs": [
    {
     "name": "stdout",
     "output_type": "stream",
     "text": [
      "[3, 2, 1]\n"
     ]
    }
   ],
   "source": [
    "numbers: list[int] = [1, 2, 3]\n",
    "numbers.reverse()\n",
    "print(numbers)  # Output: [3, 2, 1]"
   ]
  },
  {
   "cell_type": "markdown",
   "metadata": {},
   "source": [
    "# 11. copy()\n",
    "Definition: \n",
    "\n",
    "        Returns a shallow copy of the list.\n",
    "\n",
    "Syntax: \n",
    "\n",
    "        list.copy() -> list[Any]\n",
    "\n",
    "Return Type:\n",
    "\n",
    "         list[Any]\n",
    "\n",
    "Example:\n"
   ]
  },
  {
   "cell_type": "code",
   "execution_count": 12,
   "metadata": {},
   "outputs": [
    {
     "name": "stdout",
     "output_type": "stream",
     "text": [
      "[1, 2, 3]\n"
     ]
    }
   ],
   "source": [
    "numbers: list[int] = [1, 2, 3]\n",
    "numbers_copy: list[int] = numbers.copy()\n",
    "print(numbers_copy)  # Output: [1, 2, 3]"
   ]
  },
  {
   "cell_type": "markdown",
   "metadata": {},
   "source": [
    "# 12. any()\n",
    "Definition:\n",
    "\n",
    "         Returns True if at least one element in the list is true, otherwise False.\n",
    "\n",
    "Syntax:\n",
    "\n",
    "         any(iterable: Iterable[Any]) -> bool\n",
    "\n",
    "Return Type:\n",
    "\n",
    "         bool\n",
    "\n",
    "Example:"
   ]
  },
  {
   "cell_type": "code",
   "execution_count": 13,
   "metadata": {},
   "outputs": [
    {
     "name": "stdout",
     "output_type": "stream",
     "text": [
      "True\n"
     ]
    }
   ],
   "source": [
    "booleans: list[bool] = [False, True, False]\n",
    "result: bool = any(booleans)\n",
    "print(result)  # Output: True"
   ]
  },
  {
   "cell_type": "markdown",
   "metadata": {},
   "source": [
    "# 13. all()\n",
    "Definition:\n",
    "\n",
    "         Returns True if all elements in the list are true, otherwise False.\n",
    "\n",
    "Syntax:\n",
    "\n",
    "         all(iterable: Iterable[Any]) -> bool\n",
    "\n",
    "Return Type:\n",
    "\n",
    "         bool\n",
    "\n",
    "Example:"
   ]
  },
  {
   "cell_type": "code",
   "execution_count": 14,
   "metadata": {},
   "outputs": [
    {
     "name": "stdout",
     "output_type": "stream",
     "text": [
      "False\n"
     ]
    }
   ],
   "source": [
    "booleans: list[bool] = [True, True, False]\n",
    "result: bool = all(booleans)\n",
    "print(result)  # Output: False\n"
   ]
  },
  {
   "cell_type": "markdown",
   "metadata": {},
   "source": [
    "# 14. len()\n",
    "Definition:\n",
    "\n",
    "         Returns the number of elements in the list.\n",
    "\n",
    "Syntax: \n",
    "\n",
    "        len(list: Sized) -> int\n",
    "\n",
    "Return Type:\n",
    "\n",
    "         int\n",
    "\n",
    "Example:"
   ]
  },
  {
   "cell_type": "code",
   "execution_count": 15,
   "metadata": {},
   "outputs": [
    {
     "name": "stdout",
     "output_type": "stream",
     "text": [
      "3\n"
     ]
    }
   ],
   "source": [
    "numbers: list[int] = [1, 2, 3]\n",
    "length: int = len(numbers)\n",
    "print(length)  # Output: 3\n"
   ]
  },
  {
   "cell_type": "markdown",
   "metadata": {},
   "source": [
    "# Few list methods relates to \"Tuples\", Will be iterated later "
   ]
  }
 ],
 "metadata": {
  "kernelspec": {
   "display_name": "Python (myenv)",
   "language": "python",
   "name": "myenv"
  },
  "language_info": {
   "codemirror_mode": {
    "name": "ipython",
    "version": 3
   },
   "file_extension": ".py",
   "mimetype": "text/x-python",
   "name": "python",
   "nbconvert_exporter": "python",
   "pygments_lexer": "ipython3",
   "version": "3.12.3"
  }
 },
 "nbformat": 4,
 "nbformat_minor": 2
}
