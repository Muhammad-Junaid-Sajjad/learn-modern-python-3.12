{
 "cells": [
  {
   "cell_type": "markdown",
   "metadata": {},
   "source": [
    "# Welcome  TO Eric Matthes Crash Course \n",
    "This space is solely for Solving \"TRY YOUR SELF\" exercises of python book"
   ]
  },
  {
   "cell_type": "code",
   "execution_count": 2,
   "metadata": {},
   "outputs": [
    {
     "name": "stdout",
     "output_type": "stream",
     "text": [
      "Hello Eric, To Python Crash Course Reader\n"
     ]
    }
   ],
   "source": [
    "print('Hello Eric, To Python Crash Course Reader')"
   ]
  },
  {
   "cell_type": "markdown",
   "metadata": {},
   "source": [
    "# Chapter 3-    INTRODUCING LIST"
   ]
  },
  {
   "cell_type": "markdown",
   "metadata": {},
   "source": [
    "3-1. Names: Store the names of a few of your friends in a list called names. Print Each person’s name by accessing each element in the list, one at a time."
   ]
  },
  {
   "cell_type": "code",
   "execution_count": 7,
   "metadata": {},
   "outputs": [
    {
     "name": "stdout",
     "output_type": "stream",
     "text": [
      "['Albert Einstein', 'Marie Curie', 'Peri Curie', 'Galileo']\n"
     ]
    }
   ],
   "source": [
    "# Friend List declaration & initialization\n",
    "friends : list[str] =  ['Albert Einstein','Marie Curie','Peri Curie','Galileo']\n",
    "# Printing Friend List \n",
    "print(friends)"
   ]
  },
  {
   "cell_type": "code",
   "execution_count": 10,
   "metadata": {},
   "outputs": [
    {
     "name": "stdout",
     "output_type": "stream",
     "text": [
      "Albert Einstein\n",
      "Marie Curie\n",
      "Peri Curie\n"
     ]
    }
   ],
   "source": [
    "# Assessing List Elements by Indexing\n",
    "print(friends[0])\n",
    "print(friends[1])\n",
    "print(friends[2])"
   ]
  },
  {
   "cell_type": "code",
   "execution_count": 11,
   "metadata": {},
   "outputs": [
    {
     "data": {
      "text/plain": [
       "'Galileo'"
      ]
     },
     "execution_count": 11,
     "metadata": {},
     "output_type": "execute_result"
    }
   ],
   "source": [
    "# Assessing List elements Directly\n",
    "friends[3]"
   ]
  },
  {
   "cell_type": "markdown",
   "metadata": {},
   "source": [
    "3-2. Greetings: Start with the list you used in Exercise 3-1, but instead of just\n",
    "printing each person’s name, print a message to them. The text of each mes-\n",
    "sage should be the same, but each message should be personalized with the\n",
    "person’s name."
   ]
  },
  {
   "cell_type": "code",
   "execution_count": 3,
   "metadata": {},
   "outputs": [
    {
     "name": "stdout",
     "output_type": "stream",
     "text": [
      "Happy To Meet You\n"
     ]
    }
   ],
   "source": [
    "# Printing Message For List Members\n",
    "message : [str] = \"Happy To Meet You\" \n",
    "print(message)"
   ]
  },
  {
   "cell_type": "code",
   "execution_count": 10,
   "metadata": {},
   "outputs": [
    {
     "name": "stdout",
     "output_type": "stream",
     "text": [
      "Happy To Meet You Albert Einstein\n",
      "Happy To Meet You Marie Curie\n",
      "Happy To Meet You Peri Curie\n",
      "Happy To Meet You Galileo\n"
     ]
    }
   ],
   "source": [
    "# Printing Message For Individual \n",
    "print(f\"{message} {friends[0]}\")\n",
    "print(f\"{message} {friends[1]}\")\n",
    "print(f\"{message} {friends[2]}\")\n",
    "print(f\"{message} {friends[3]}\")\n"
   ]
  },
  {
   "cell_type": "code",
   "execution_count": 18,
   "metadata": {},
   "outputs": [
    {
     "data": {
      "text/plain": [
       "'Happy To Meet You Peri Curie'"
      ]
     },
     "execution_count": 18,
     "metadata": {},
     "output_type": "execute_result"
    }
   ],
   "source": [
    "# Printing Directly \n",
    "f\"{message} {friends[0]}\"       # only 01 of them Runs at a time \n",
    "# f\"{message} {friends[1]}\"\n",
    "f\"{message} {friends[2]}\"       #  only the latest one runs when all printed simultaneously   \n",
    "# f\"{message} {friends[3]}\""
   ]
  },
  {
   "cell_type": "code",
   "execution_count": null,
   "metadata": {},
   "outputs": [],
   "source": []
  }
 ],
 "metadata": {
  "kernelspec": {
   "display_name": "Python (myenv)",
   "language": "python",
   "name": "myenv"
  },
  "language_info": {
   "codemirror_mode": {
    "name": "ipython",
    "version": 3
   },
   "file_extension": ".py",
   "mimetype": "text/x-python",
   "name": "python",
   "nbconvert_exporter": "python",
   "pygments_lexer": "ipython3",
   "version": "3.12.3"
  }
 },
 "nbformat": 4,
 "nbformat_minor": 2
}
